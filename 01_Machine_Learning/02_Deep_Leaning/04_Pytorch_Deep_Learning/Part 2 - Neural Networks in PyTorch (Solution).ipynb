{
 "cells": [
  {
   "cell_type": "markdown",
   "metadata": {},
   "source": [
    "# Neural networks with PyTorch\n",
    "\n",
    "Deep learning networks tend to be massive with dozens or hundreds of layers, that's where the term \"deep\" comes from. You can build one of these deep networks using only weight matrices as we did in the previous notebook, but in general it's very cumbersome and difficult to implement. PyTorch has a nice module `nn` that provides a nice way to efficiently build large neural networks."
   ]
  },
  {
   "cell_type": "code",
   "execution_count": 1,
   "metadata": {
    "collapsed": true
   },
   "outputs": [],
   "source": [
    "# Import necessary packages\n",
    "\n",
    "%matplotlib inline\n",
    "%config InlineBackend.figure_format = 'retina'\n",
    "\n",
    "import numpy as np\n",
    "import torch\n",
    "\n",
    "import helper\n",
    "\n",
    "import matplotlib.pyplot as plt"
   ]
  },
  {
   "cell_type": "markdown",
   "metadata": {},
   "source": [
    "\n",
    "Now we're going to build a larger network that can solve a (formerly) difficult problem, identifying text in an image. Here we'll use the MNIST dataset which consists of greyscale handwritten digits. Each image is 28x28 pixels, you can see a sample below\n",
    "\n",
    "<img src='assets/mnist.png'>\n",
    "\n",
    "Our goal is to build a neural network that can take one of these images and predict the digit in the image.\n",
    "\n",
    "First up, we need to get our dataset. This is provided through the `torchvision` package. The code below will download the MNIST dataset, then create training and test datasets for us. Don't worry too much about the details here, you'll learn more about this later."
   ]
  },
  {
   "cell_type": "code",
   "execution_count": 2,
   "metadata": {
    "collapsed": true
   },
   "outputs": [
    {
     "name": "stderr",
     "output_type": "stream",
     "text": [
      "22.8%"
     ]
    },
    {
     "name": "stdout",
     "output_type": "stream",
     "text": [
      "Downloading http://yann.lecun.com/exdb/mnist/train-images-idx3-ubyte.gz to /home/dylan/.pytorch/MNIST_data/MNIST/raw/train-images-idx3-ubyte.gz\n"
     ]
    },
    {
     "name": "stderr",
     "output_type": "stream",
     "text": [
      "100.1%"
     ]
    },
    {
     "name": "stdout",
     "output_type": "stream",
     "text": [
      "Extracting /home/dylan/.pytorch/MNIST_data/MNIST/raw/train-images-idx3-ubyte.gz to /home/dylan/.pytorch/MNIST_data/MNIST/raw\n"
     ]
    },
    {
     "name": "stderr",
     "output_type": "stream",
     "text": [
      "46.7%%"
     ]
    },
    {
     "name": "stdout",
     "output_type": "stream",
     "text": [
      "Downloading http://yann.lecun.com/exdb/mnist/train-labels-idx1-ubyte.gz to /home/dylan/.pytorch/MNIST_data/MNIST/raw/train-labels-idx1-ubyte.gz\n",
      "Extracting /home/dylan/.pytorch/MNIST_data/MNIST/raw/train-labels-idx1-ubyte.gz to /home/dylan/.pytorch/MNIST_data/MNIST/raw\n",
      "Downloading http://yann.lecun.com/exdb/mnist/t10k-images-idx3-ubyte.gz to /home/dylan/.pytorch/MNIST_data/MNIST/raw/t10k-images-idx3-ubyte.gz\n"
     ]
    },
    {
     "name": "stderr",
     "output_type": "stream",
     "text": [
      "180.4%"
     ]
    },
    {
     "name": "stdout",
     "output_type": "stream",
     "text": [
      "Extracting /home/dylan/.pytorch/MNIST_data/MNIST/raw/t10k-images-idx3-ubyte.gz to /home/dylan/.pytorch/MNIST_data/MNIST/raw\n",
      "Downloading http://yann.lecun.com/exdb/mnist/t10k-labels-idx1-ubyte.gz to /home/dylan/.pytorch/MNIST_data/MNIST/raw/t10k-labels-idx1-ubyte.gz\n",
      "Extracting /home/dylan/.pytorch/MNIST_data/MNIST/raw/t10k-labels-idx1-ubyte.gz to /home/dylan/.pytorch/MNIST_data/MNIST/raw\n",
      "Processing...\n",
      "Done!\n"
     ]
    }
   ],
   "source": [
    "### Run this cell\n",
    "\n",
    "from torchvision import datasets, transforms\n",
    "\n",
    "# Define a transform to normalize the data\n",
    "transform = transforms.Compose([transforms.ToTensor(),\n",
    "                              transforms.Normalize((0.5,), (0.5,)),\n",
    "                              ])\n",
    "# Download and load the training data\n",
    "trainset = datasets.MNIST('~/.pytorch/MNIST_data/', download=True, train=True, transform=transform)\n",
    "trainloader = torch.utils.data.DataLoader(trainset, batch_size=64, shuffle=True)"
   ]
  },
  {
   "cell_type": "markdown",
   "metadata": {},
   "source": [
    "We have the training data loaded into `trainloader` and we make that an iterator with `iter(trainloader)`. Later, we'll use this to loop through the dataset for training, like\n",
    "\n",
    "```python\n",
    "for image, label in trainloader:\n",
    "    ## do things with images and labels\n",
    "```\n",
    "\n",
    "You'll notice I created the `trainloader` with a batch size of 64, and `shuffle=True`. The batch size is the number of images we get in one iteration from the data loader and pass through our network, often called a *batch*. And `shuffle=True` tells it to shuffle the dataset every time we start going through the data loader again. But here I'm just grabbing the first batch so we can check out the data. We can see below that `images` is just a tensor with size `(64, 1, 28, 28)`. So, 64 images per batch, 1 color channel, and 28x28 images."
   ]
  },
  {
   "cell_type": "code",
   "execution_count": 3,
   "metadata": {},
   "outputs": [
    {
     "name": "stdout",
     "output_type": "stream",
     "text": [
      "<class 'torch.Tensor'>\n",
      "torch.Size([64, 1, 28, 28])\n",
      "torch.Size([64])\n"
     ]
    }
   ],
   "source": [
    "dataiter = iter(trainloader)\n",
    "images, labels = dataiter.next()\n",
    "print(type(images))\n",
    "print(images.shape)\n",
    "print(labels.shape)"
   ]
  },
  {
   "cell_type": "markdown",
   "metadata": {},
   "source": [
    "This is what one of the images looks like. "
   ]
  },
  {
   "cell_type": "code",
   "execution_count": 4,
   "metadata": {},
   "outputs": [
    {
     "data": {
      "image/png": "[encoded data removed]",
      "text/plain": [
       "<Figure size 432x288 with 1 Axes>"
      ]
     },
     "metadata": {
      "image/png": {
       "height": 250,
       "width": 253
      },
      "needs_background": "light"
     },
     "output_type": "display_data"
    }
   ],
   "source": [
    "plt.imshow(images[1].numpy().squeeze(), cmap='Greys_r');"
   ]
  },
  {
   "cell_type": "markdown",
   "metadata": {},
   "source": [
    "First, let's try to build a simple network for this dataset using weight matrices and matrix multiplications. Then, we'll see how to do it using PyTorch's `nn` module which provides a much more convenient and powerful method for defining network architectures.\n",
    "\n",
    "The networks you've seen so far are called *fully-connected* or *dense* networks. Each unit in one layer is connected to each unit in the next layer. In fully-connected networks, the input to each layer must be a one-dimensional vector (which can be stacked into a 2D tensor as a batch of multiple examples). However, our images are 28x28 2D tensors, so we need to convert them into 1D vectors. Thinking about sizes, we need to convert the batch of images with shape `(64, 1, 28, 28)` to a have a shape of `(64, 784)`, 784 is 28 times 28. This is typically called *flattening*, we flattened the 2D images into 1D vectors.\n",
    "\n",
    "Previously you built a network with one output unit. Here we need 10 output units, one for each digit. We want our network to predict the digit shown in an image, so what we'll do is calculate probabilities that the image is of any one digit or class. This ends up being a discrete probability distribution over the classes (digits) that tells us the most likely class for the image. That means we need 10 output units for the 10 classes (digits). We'll see how to convert the network output into a probability distribution next.\n",
    "\n",
    "> **Exercise:** Flatten the batch of images `images`. Then build a multi-layer network with 784 input units, 256 hidden units, and 10 output units using random tensors for the weights and biases. For now, use a sigmoid activation for the hidden layer. Leave the output layer without an activation, we'll add one that gives us a probability distribution next."
   ]
  },
  {
   "cell_type": "code",
   "execution_count": 24,
   "metadata": {
    "collapsed": true
   },
   "outputs": [
    {
     "data": {
      "text/plain": [
       "tensor([[-13.7331,  15.2446,  11.2072,  -1.2590,   1.2446,  -7.2454,  -8.8732,\n",
       "           1.4130,  -5.4894,   6.6245],\n",
       "        [-14.4923,   2.0074,  10.9394, -12.5145,  -0.7739,  -3.7532, -11.5453,\n",
       "          -2.5884,   0.2957,   8.5449],\n",
       "        [-15.7700,  -0.0738,   5.5703,   1.7505,   9.2330,  -8.7761, -14.9713,\n",
       "           7.8210,  -2.8550,   6.1789],\n",
       "        [-21.1212,  -0.7000,   7.9104,  -6.2400,   3.1954,  -2.0965,  -7.5836,\n",
       "           3.3004,   9.1398,   3.9203],\n",
       "        [-10.4066,   9.7995,  11.5363, -16.3347,   5.0852,  -9.8358, -10.7447,\n",
       "           3.9048,  -2.6143,   2.7301],\n",
       "        [-25.0377,   1.4442,   5.0719,  -6.8027,  10.7727,  -7.3222,  -5.3939,\n",
       "          -1.0488,  -3.7544,   8.2153],\n",
       "        [-22.4969,   0.5099,  -4.6790, -17.1401,  -1.7479,  -8.4658, -11.1582,\n",
       "           4.0511,   3.7823,  -4.2512],\n",
       "        [-18.0918,   3.3896,  15.4256, -13.2014,  10.2566, -12.2746,  -9.8518,\n",
       "          11.5535,   2.0740,  11.7106],\n",
       "        [-11.9089,   8.0339,  12.5703,  -8.3321,  -7.4053,  -7.0187,  -9.3730,\n",
       "           4.7795,   1.5129,   5.0652],\n",
       "        [-16.4052,   8.9132,   7.0163,  -1.0029,   5.5660,  -5.5918, -10.6564,\n",
       "           4.2206,  -3.8309,   3.1232],\n",
       "        [-13.7227,   8.5541,   6.5351,  -5.6471,  -1.9374,  -8.5966, -12.7235,\n",
       "          -3.9657,   1.1478,   4.3998],\n",
       "        [-15.1051,   5.3912,   3.9586, -10.6045,  -0.8600,  -5.9583,  -8.1138,\n",
       "           4.6384,   1.9162,  10.3765],\n",
       "        [-16.2200,  10.9503,  -0.3892,  -7.7574,  -2.5892,  -5.3410,  -7.1611,\n",
       "           2.9600,   1.3060,   3.3545],\n",
       "        [-19.6126,   4.3187,   7.7931,  -4.7781,  -2.5598,  -7.2424, -16.8914,\n",
       "          -9.1522,   2.5157,  -1.8201],\n",
       "        [-10.7447,  14.8782,   5.8568,  -6.9825,   3.3329, -11.9888, -17.5034,\n",
       "           0.5747,   8.0927,   9.1182],\n",
       "        [-15.7879,   1.6441,  10.3344,  -0.0619,  11.5986,  -0.3499,  -1.7492,\n",
       "           2.0333,  -0.8343,  -3.0801],\n",
       "        [-20.4387,   0.2806,  11.6471,   0.6202,  -2.3064,  -1.8123,  -9.3793,\n",
       "           6.5396,   7.6073,   6.1198],\n",
       "        [-14.9303,  11.6541,  14.5632,  -4.0051,   3.2703,  -0.7111, -10.8197,\n",
       "           5.2113,  -2.0982,   3.9974],\n",
       "        [-25.7520,   6.1671,   2.9873, -11.9661,   9.6274,  -5.6641,  -6.7406,\n",
       "           2.8832,  -8.6898,   8.8677],\n",
       "        [-15.7447,   4.5622,  -3.7173,  -3.3839,   8.8829,  -2.8066, -12.9473,\n",
       "           9.9915,  -4.1598,   9.4146],\n",
       "        [-10.6200,   8.2234,   7.3740,  -1.3868,   3.1967,   5.5615,  -5.0493,\n",
       "           2.4142,   1.8486,   1.0375],\n",
       "        [-26.2114,  -2.5629,   1.2599, -11.4710,   9.6549, -14.8844,  -9.5572,\n",
       "           0.5265,  -2.8010,  -2.7177],\n",
       "        [-13.9009,   1.8845,   5.0609, -16.2043,   3.7035,  -5.5848,  -3.2967,\n",
       "           2.0568,   0.3247,  -0.1645],\n",
       "        [-18.9255,   5.0490,   0.4185, -12.4924,  -3.0532,  -8.9211, -16.9802,\n",
       "          -0.2644,   1.1213,  -2.3488],\n",
       "        [-23.0805,   5.2269,   3.7390, -16.4581,   1.6545,  -5.4019,  -9.0562,\n",
       "           2.5712,   2.7921,   3.2113],\n",
       "        [ -5.1795,  12.2412,  -0.9529,  -9.3448,  -3.0154,   3.0128,  -4.6687,\n",
       "           4.6081,  -3.7341,   0.2193],\n",
       "        [-18.4578,  12.2983,   8.5197,  -1.5590,   4.9567,  -8.4331,  -9.7754,\n",
       "           2.1482,  -0.2355,   3.7941],\n",
       "        [-19.5207,   9.0271,   9.4325,  -8.7998,   8.4516,   4.6873,  -7.8916,\n",
       "           9.7776,  -0.9589,  10.2346],\n",
       "        [-11.9388,   4.4464,  16.2266,  -4.0214,   4.2860,  -3.9092,  -6.0953,\n",
       "           5.3129,   9.6279,   2.1224],\n",
       "        [-19.8532,   4.8100,   2.9049,  -7.1178,   1.9473,  -2.7996, -15.9520,\n",
       "          -5.9282,   3.6254,  -2.7933],\n",
       "        [-18.1996,  -2.5891,  12.3937,  -3.2464,  -3.6786, -14.9907,  -8.8127,\n",
       "          -1.8521,  -4.5799,   4.9625],\n",
       "        [-22.3558,   9.5800,   8.7508, -17.0040,   6.3348,  -9.3125, -18.0035,\n",
       "          -1.2830,  -2.6401,   6.6600],\n",
       "        [-22.6884,   4.9147,   4.9771,  -7.2722,  -5.2519,   3.3985, -11.4015,\n",
       "           3.7348,  -4.3128,   4.2483],\n",
       "        [-19.3436,   9.8172,  11.6930,  -6.3561,   7.3032,  -9.6997, -10.2351,\n",
       "          -5.1341,  -7.0744, -10.6313],\n",
       "        [-12.0246,   8.1436,  -3.4293,  -5.3310,  -3.7133,   0.8456, -17.9290,\n",
       "           8.0474,  -3.0045,  -0.2756],\n",
       "        [-18.1490,  11.3850,   9.6652, -11.5301,   6.4680, -13.1523,  -9.3866,\n",
       "           0.3125,  -8.6232,  -3.1539],\n",
       "        [ -7.9132,   7.1264,   3.0074,  -5.6786,   1.3988,   3.6258,  -9.1289,\n",
       "           0.8334,   4.0625,  -7.6779],\n",
       "        [-16.6748,   2.5737,   4.7326,  -1.1317,   1.4177,  -5.7986, -12.9215,\n",
       "          -6.2951,  -8.7411,   4.0485],\n",
       "        [-13.0537,   7.8208,  10.8800,  -5.9637,   0.8035,  -3.7349, -11.6521,\n",
       "           6.1539,   5.2589,  -0.9397],\n",
       "        [-16.5470,  -1.1262,   2.1379,  -5.9035,   8.9202,  -8.4945, -11.2878,\n",
       "           2.4829, -12.8461,   3.5514],\n",
       "        [-17.0306,   4.7196,   7.2618,  -1.9411,   9.1822,   2.4162,  -9.4252,\n",
       "           3.8150,  -0.5359,   1.0586],\n",
       "        [-19.5549,  10.5081,   6.8205, -12.7793,   0.3491,  -5.0790,  -2.5903,\n",
       "          -4.7577, -10.1095,  -8.2863],\n",
       "        [ -5.0932,  15.5539,  12.5168,  -3.7037,   4.6267,  -4.8845,  -8.0815,\n",
       "          -4.3873,  -3.8062,   5.2489],\n",
       "        [-18.1271,   5.4488,   7.1038,  -2.5946,  -2.0118,   4.7343, -15.0952,\n",
       "          -5.2323,   1.8389,  -4.7241],\n",
       "        [-21.8973,  -1.9719,  -7.0420, -17.1429,   4.6556,   0.7806,  -3.1112,\n",
       "           2.8793,   2.3849,  -2.8442],\n",
       "        [-15.8566,   6.5953,  -6.3535, -15.4083,   6.0133,  -6.5554, -12.4779,\n",
       "          -0.6333,  -4.0324,   1.4692],\n",
       "        [-18.7869,   3.1938,   5.2511,  -0.8581,   0.9136,  -2.9189, -10.3525,\n",
       "           0.0366,  -8.7015,   7.5900],\n",
       "        [-16.6761,  -0.1676,  13.3403, -12.3865,   7.9479,  -5.8128, -25.5338,\n",
       "          -5.8439,   8.3065,  -1.2244],\n",
       "        [-15.0649,  12.6903,  11.7779,  -7.3351,  -0.9142,  -0.7564, -18.5066,\n",
       "          -5.5097,   4.7867,  -6.0318],\n",
       "        [ -3.5117,  -1.5022,   5.8613,  -8.3779,  -6.1111,  -4.3592, -14.2168,\n",
       "          -0.1098,   0.7571,   2.8554],\n",
       "        [-11.0913,  12.4511,   8.7292,  -2.8337,  -7.7823,  -1.4125, -12.0842,\n",
       "           4.2051,   6.7192,   3.9345],\n",
       "        [-16.5903,  12.8480,   1.0124, -17.8619,   1.1312,  -5.2220, -15.8296,\n",
       "           2.1188,   3.4616,  -2.5229],\n",
       "        [-19.0174,  -0.5326,   6.3560, -15.3941,  17.4061, -13.7130,  -4.0105,\n",
       "          -2.0933,  -1.8574,   0.1646],\n",
       "        [-15.9130,  10.9525,   7.0691,  -6.4174,   0.2710,  -4.3937,  -6.3483,\n",
       "           6.0574,   4.5422,  11.3102],\n",
       "        [-13.6174,   4.9166,  16.1568,  -4.2032, -10.1156,  -3.3341,  -8.9735,\n",
       "          -7.4350,   4.9121,   8.8871],\n",
       "        [-16.9245,   4.5782,   1.3627,  -6.1416,  -6.2142,  -2.9465,  -5.8247,\n",
       "           1.8066,   4.2393,   8.0865],\n",
       "        [-12.9965,  10.9479,   3.9756,  -6.1464,  -1.6009, -10.5243, -16.4901,\n",
       "          -0.7996,   9.3281,  -0.9686],\n",
       "        [-15.9011,   7.1317,  12.9559,  -8.5382,   9.4138,  -6.3983,  -9.8236,\n",
       "          -3.1564,  -3.7801,  -2.3536],\n",
       "        [-14.7078,   7.7459,   5.6888, -16.5874,  -3.6357,  -5.6197, -10.7590,\n",
       "          -0.4673,   2.6327,   2.1023],\n",
       "        [-19.4456,  11.1310,  -2.0373, -11.0166,  -2.8482,   2.5452, -15.0771,\n",
       "          -0.3305,   4.9370,   5.4074],\n",
       "        [-14.5892,   7.8854,   3.8458,  -9.1289,  -0.9289,  -7.4295,  -7.4237,\n",
       "           0.5087,  -3.5993,   9.3217],\n",
       "        [-22.3577,   9.1520,   3.7754,  -2.7332,   7.0868,  -9.3849,  -1.2111,\n",
       "           2.9432,  -4.4011,   2.1167],\n",
       "        [-17.4410,   4.6956,   9.0603,  -3.5715,   0.5909,  -7.8555,  -8.1542,\n",
       "           0.1448,   3.9763,   5.6824],\n",
       "        [ -8.5439,   8.5406,   9.0727, -14.4507,  -6.1590,  -8.2672, -17.2422,\n",
       "          -4.8396,  -3.9731,  -1.1510]])"
      ]
     },
     "execution_count": 24,
     "metadata": {},
     "output_type": "execute_result"
    }
   ],
   "source": [
    "## Solution\n",
    "def activation(x):\n",
    "    return 1/(1+torch.exp(-x))\n",
    "\n",
    "# Flatten the input images\n",
    "inputs = images.view(images.shape[0], -1)\n",
    "\n",
    "# Create parameters\n",
    "w1 = torch.randn(784, 256)\n",
    "b1 = torch.randn(256)\n",
    "\n",
    "w2 = torch.randn(256, 10)\n",
    "b2 = torch.randn(10)\n",
    "\n",
    "h = activation(torch.mm(inputs, w1) + b1)\n",
    "\n",
    "out = torch.mm(h, w2) + b2\n",
    "out"
   ]
  },
  {
   "cell_type": "markdown",
   "metadata": {},
   "source": [
    "Now we have 10 outputs for our network. We want to pass in an image to our network and get out a probability distribution over the classes that tells us the likely class(es) the image belongs to. Something that looks like this:\n",
    "<img src='assets/image_distribution.png' width=500px>\n",
    "\n",
    "Here we see that the probability for each class is roughly the same. This is representing an untrained network, it hasn't seen any data yet so it just returns a uniform distribution with equal probabilities for each class.\n",
    "\n",
    "To calculate this probability distribution, we often use the [**softmax** function](https://en.wikipedia.org/wiki/Softmax_function). Mathematically this looks like\n",
    "\n",
    "$$\n",
    "\\Large \\sigma(x_i) = \\cfrac{e^{x_i}}{\\sum_k^K{e^{x_k}}}\n",
    "$$\n",
    "\n",
    "What this does is squish each input $x_i$ between 0 and 1 and normalizes the values to give you a proper probability distribution where the probabilites sum up to one.\n",
    "\n",
    "> **Exercise:** Implement a function `softmax` that performs the softmax calculation and returns probability distributions for each example in the batch. Note that you'll need to pay attention to the shapes when doing this. If you have a tensor `a` with shape `(64, 10)` and a tensor `b` with shape `(64,)`, doing `a/b` will give you an error because PyTorch will try to do the division across the columns (called broadcasting) but you'll get a size mismatch. The way to think about this is for each of the 64 examples, you only want to divide by one value, the sum in the denominator. So you need `b` to have a shape of `(64, 1)`. This way PyTorch will divide the 10 values in each row of `a` by the one value in each row of `b`. Pay attention to how you take the sum as well. You'll need to define the `dim` keyword in `torch.sum`. Setting `dim=0` takes the sum across the rows while `dim=1` takes the sum across the columns."
   ]
  },
  {
   "cell_type": "code",
   "execution_count": 6,
   "metadata": {},
   "outputs": [
    {
     "name": "stdout",
     "output_type": "stream",
     "text": [
      "torch.Size([64, 10])\n",
      "tensor([1.0000, 1.0000, 1.0000, 1.0000, 1.0000, 1.0000, 1.0000, 1.0000, 1.0000,\n",
      "        1.0000, 1.0000, 1.0000, 1.0000, 1.0000, 1.0000, 1.0000, 1.0000, 1.0000,\n",
      "        1.0000, 1.0000, 1.0000, 1.0000, 1.0000, 1.0000, 1.0000, 1.0000, 1.0000,\n",
      "        1.0000, 1.0000, 1.0000, 1.0000, 1.0000, 1.0000, 1.0000, 1.0000, 1.0000,\n",
      "        1.0000, 1.0000, 1.0000, 1.0000, 1.0000, 1.0000, 1.0000, 1.0000, 1.0000,\n",
      "        1.0000, 1.0000, 1.0000, 1.0000, 1.0000, 1.0000, 1.0000, 1.0000, 1.0000,\n",
      "        1.0000, 1.0000, 1.0000, 1.0000, 1.0000, 1.0000, 1.0000, 1.0000, 1.0000,\n",
      "        1.0000])\n"
     ]
    }
   ],
   "source": [
    "## Solution\n",
    "def softmax(x):\n",
    "    return torch.exp(x)/torch.sum(torch.exp(x), dim=1).view(-1, 1)\n",
    "\n",
    "probabilities = softmax(out)\n",
    "\n",
    "# Does it have the right shape? Should be (64, 10)\n",
    "print(probabilities.shape)\n",
    "# Does it sum to 1?\n",
    "print(probabilities.sum(dim=1))"
   ]
  },
  {
   "cell_type": "markdown",
   "metadata": {},
   "source": [
    "## Building networks with PyTorch\n",
    "\n",
    "PyTorch provides a module `nn` that makes building networks much simpler. Here I'll show you how to build the same one as above with 784 inputs, 256 hidden units, 10 output units and a softmax output."
   ]
  },
  {
   "cell_type": "code",
   "execution_count": 7,
   "metadata": {
    "collapsed": true
   },
   "outputs": [],
   "source": [
    "from torch import nn"
   ]
  },
  {
   "cell_type": "code",
   "execution_count": 8,
   "metadata": {
    "collapsed": true
   },
   "outputs": [],
   "source": [
    "class Network(nn.Module):\n",
    "    def __init__(self):\n",
    "        super().__init__()\n",
    "        \n",
    "        # Inputs to hidden layer linear transformation\n",
    "        self.hidden = nn.Linear(784, 256)\n",
    "        # Output layer, 10 units - one for each digit\n",
    "        self.output = nn.Linear(256, 10)\n",
    "        \n",
    "        # Define sigmoid activation and softmax output \n",
    "        self.sigmoid = nn.Sigmoid()\n",
    "        self.softmax = nn.Softmax(dim=1)\n",
    "        \n",
    "    def forward(self, x):\n",
    "        # Pass the input tensor through each of our operations\n",
    "        x = self.hidden(x)\n",
    "        x = self.sigmoid(x)\n",
    "        x = self.output(x)\n",
    "        x = self.softmax(x)\n",
    "        \n",
    "        return x"
   ]
  },
  {
   "cell_type": "markdown",
   "metadata": {},
   "source": [
    "Let's go through this bit by bit.\n",
    "\n",
    "```python\n",
    "class Network(nn.Module):\n",
    "```\n",
    "\n",
    "Here we're inheriting from `nn.Module`. Combined with `super().__init__()` this creates a class that tracks the architecture and provides a lot of useful methods and attributes. It is mandatory to inherit from `nn.Module` when you're creating a class for your network. The name of the class itself can be anything.\n",
    "\n",
    "```python\n",
    "self.hidden = nn.Linear(784, 256)\n",
    "```\n",
    "\n",
    "This line creates a module for a linear transformation, $x\\mathbf{W} + b$, with 784 inputs and 256 outputs and assigns it to `self.hidden`. The module automatically creates the weight and bias tensors which we'll use in the `forward` method. You can access the weight and bias tensors once the network (`net`) is created with `net.hidden.weight` and `net.hidden.bias`.\n",
    "\n",
    "```python\n",
    "self.output = nn.Linear(256, 10)\n",
    "```\n",
    "\n",
    "Similarly, this creates another linear transformation with 256 inputs and 10 outputs.\n",
    "\n",
    "```python\n",
    "self.sigmoid = nn.Sigmoid()\n",
    "self.softmax = nn.Softmax(dim=1)\n",
    "```\n",
    "\n",
    "Here I defined operations for the sigmoid activation and softmax output. Setting `dim=1` in `nn.Softmax(dim=1)` calculates softmax across the columns.\n",
    "\n",
    "```python\n",
    "def forward(self, x):\n",
    "```\n",
    "\n",
    "PyTorch networks created with `nn.Module` must have a `forward` method defined. It takes in a tensor `x` and passes it through the operations you defined in the `__init__` method.\n",
    "\n",
    "```python\n",
    "x = self.hidden(x)\n",
    "x = self.sigmoid(x)\n",
    "x = self.output(x)\n",
    "x = self.softmax(x)\n",
    "```\n",
    "\n",
    "Here the input tensor `x` is passed through each operation a reassigned to `x`. We can see that the input tensor goes through the hidden layer, then a sigmoid function, then the output layer, and finally the softmax function. It doesn't matter what you name the variables here, as long as the inputs and outputs of the operations match the network architecture you want to build. The order in which you define things in the `__init__` method doesn't matter, but you'll need to sequence the operations correctly in the `forward` method.\n",
    "\n",
    "Now we can create a `Network` object."
   ]
  },
  {
   "cell_type": "code",
   "execution_count": 9,
   "metadata": {},
   "outputs": [
    {
     "data": {
      "text/plain": [
       "Network(\n",
       "  (hidden): Linear(in_features=784, out_features=256, bias=True)\n",
       "  (output): Linear(in_features=256, out_features=10, bias=True)\n",
       "  (sigmoid): Sigmoid()\n",
       "  (softmax): Softmax(dim=1)\n",
       ")"
      ]
     },
     "execution_count": 9,
     "metadata": {},
     "output_type": "execute_result"
    }
   ],
   "source": [
    "# Create the network and look at it's text representation\n",
    "model = Network()\n",
    "model"
   ]
  },
  {
   "cell_type": "markdown",
   "metadata": {},
   "source": [
    "You can define the network somewhat more concisely and clearly using the `torch.nn.functional` module. This is the most common way you'll see networks defined as many operations are simple element-wise functions. We normally import this module as `F`, `import torch.nn.functional as F`."
   ]
  },
  {
   "cell_type": "code",
   "execution_count": 10,
   "metadata": {
    "collapsed": true
   },
   "outputs": [],
   "source": [
    "import torch.nn.functional as F\n",
    "\n",
    "class Network(nn.Module):\n",
    "    def __init__(self):\n",
    "        super().__init__()\n",
    "        # Inputs to hidden layer linear transformation\n",
    "        self.hidden = nn.Linear(784, 256)\n",
    "        # Output layer, 10 units - one for each digit\n",
    "        self.output = nn.Linear(256, 10)\n",
    "        \n",
    "    def forward(self, x):\n",
    "        # Hidden layer with sigmoid activation\n",
    "        x = F.sigmoid(self.hidden(x))\n",
    "        # Output layer with softmax activation\n",
    "        x = F.softmax(self.output(x), dim=1)\n",
    "        \n",
    "        return x"
   ]
  },
  {
   "cell_type": "markdown",
   "metadata": {},
   "source": [
    "### Activation functions\n",
    "\n",
    "So far we've only been looking at the softmax activation, but in general any function can be used as an activation function. The only requirement is that for a network to approximate a non-linear function, the activation functions must be non-linear. Here are a few more examples of common activation functions: Tanh (hyperbolic tangent), and ReLU (rectified linear unit).\n",
    "\n",
    "<img src=\"assets/activation.png\" width=700px>\n",
    "\n",
    "In practice, the ReLU function is used almost exclusively as the activation function for hidden layers."
   ]
  },
  {
   "cell_type": "markdown",
   "metadata": {},
   "source": [
    "### Your Turn to Build a Network\n",
    "\n",
    "<img src=\"assets/mlp_mnist.png\" width=600px>\n",
    "\n",
    "> **Exercise:** Create a network with 784 input units, a hidden layer with 128 units and a ReLU activation, then a hidden layer with 64 units and a ReLU activation, and finally an output layer with a softmax activation as shown above. You can use a ReLU activation with the `nn.ReLU` module or `F.relu` function."
   ]
  },
  {
   "cell_type": "code",
   "execution_count": 11,
   "metadata": {
    "scrolled": true
   },
   "outputs": [
    {
     "data": {
      "text/plain": [
       "Network(\n",
       "  (fc1): Linear(in_features=784, out_features=128, bias=True)\n",
       "  (fc2): Linear(in_features=128, out_features=64, bias=True)\n",
       "  (fc3): Linear(in_features=64, out_features=10, bias=True)\n",
       ")"
      ]
     },
     "execution_count": 11,
     "metadata": {},
     "output_type": "execute_result"
    }
   ],
   "source": [
    "## Solution\n",
    "\n",
    "class Network(nn.Module):\n",
    "    def __init__(self):\n",
    "        super().__init__()\n",
    "        # Defining the layers, 128, 64, 10 units each\n",
    "        self.fc1 = nn.Linear(784, 128)\n",
    "        self.fc2 = nn.Linear(128, 64)\n",
    "        # Output layer, 10 units - one for each digit\n",
    "        self.fc3 = nn.Linear(64, 10)\n",
    "        \n",
    "    def forward(self, x):\n",
    "        ''' Forward pass through the network, returns the output logits '''\n",
    "        \n",
    "        x = self.fc1(x)\n",
    "        x = F.relu(x)\n",
    "        x = self.fc2(x)\n",
    "        x = F.relu(x)\n",
    "        x = self.fc3(x)\n",
    "        x = F.softmax(x, dim=1)\n",
    "        \n",
    "        return x\n",
    "\n",
    "model = Network()\n",
    "model"
   ]
  },
  {
   "cell_type": "markdown",
   "metadata": {},
   "source": [
    "### Initializing weights and biases\n",
    "\n",
    "The weights and such are automatically initialized for you, but it's possible to customize how they are initialized. The weights and biases are tensors attached to the layer you defined, you can get them with `model.fc1.weight` for instance."
   ]
  },
  {
   "cell_type": "code",
   "execution_count": 12,
   "metadata": {},
   "outputs": [
    {
     "name": "stdout",
     "output_type": "stream",
     "text": [
      "Parameter containing:\n",
      "tensor([[-0.0047, -0.0103,  0.0026,  ...,  0.0199,  0.0192, -0.0188],\n",
      "        [-0.0074,  0.0290,  0.0139,  ..., -0.0270,  0.0244,  0.0116],\n",
      "        [ 0.0335, -0.0234, -0.0153,  ...,  0.0205,  0.0162, -0.0217],\n",
      "        ...,\n",
      "        [ 0.0126, -0.0117, -0.0269,  ..., -0.0030, -0.0131, -0.0069],\n",
      "        [ 0.0302, -0.0016,  0.0084,  ..., -0.0228, -0.0272,  0.0323],\n",
      "        [-0.0198,  0.0135,  0.0085,  ..., -0.0054,  0.0352, -0.0063]],\n",
      "       requires_grad=True)\n",
      "Parameter containing:\n",
      "tensor([ 2.3490e-02,  2.5866e-02,  1.5766e-02, -1.2457e-02, -3.4372e-02,\n",
      "         1.8703e-02,  3.2920e-02,  2.4423e-02,  1.8809e-02, -1.0359e-02,\n",
      "        -1.6842e-02, -1.2664e-03, -1.3782e-02, -7.6972e-03,  3.4468e-02,\n",
      "        -2.0746e-02, -1.1709e-02, -2.1332e-03,  2.7539e-02, -3.7781e-03,\n",
      "         5.8793e-03,  3.3629e-02,  1.1171e-02, -2.5442e-02, -2.9393e-02,\n",
      "        -6.2724e-03, -3.2880e-02,  2.0891e-02,  3.5473e-02,  1.1826e-02,\n",
      "        -4.6372e-03,  3.3292e-02,  2.3782e-02,  3.2448e-02,  3.4529e-02,\n",
      "         1.6403e-02,  3.0037e-02,  6.8526e-03, -3.3212e-02, -9.1959e-03,\n",
      "        -2.2029e-02, -2.2577e-02,  1.2890e-02,  9.3984e-04, -2.2647e-02,\n",
      "        -1.9762e-02,  2.2393e-02,  8.4361e-03,  2.0900e-02,  1.8535e-02,\n",
      "         1.3592e-02, -1.8789e-02,  3.3043e-02, -3.4158e-02, -9.3945e-04,\n",
      "         3.4050e-02,  2.2205e-02, -2.4079e-02, -2.6952e-02, -2.3691e-02,\n",
      "        -2.7757e-02, -2.9134e-02,  3.3161e-02, -2.9648e-02, -2.3224e-02,\n",
      "        -3.4415e-02,  2.8702e-02, -3.0733e-02,  2.8776e-02,  1.0912e-02,\n",
      "        -2.7111e-02, -1.5376e-02, -1.5851e-02,  1.0433e-02,  5.1266e-03,\n",
      "        -6.0883e-03, -2.8521e-02,  1.6768e-02,  3.0634e-02, -2.5729e-02,\n",
      "        -3.2985e-02,  3.2785e-02,  1.6190e-02, -1.6428e-02,  1.2681e-02,\n",
      "         2.9872e-02, -1.4757e-02,  2.9765e-02,  9.1477e-03,  1.3186e-02,\n",
      "        -1.0195e-02, -1.1961e-02, -3.2439e-02,  2.7077e-03,  2.4286e-02,\n",
      "        -2.1266e-02,  1.6292e-03, -1.1770e-02, -1.7934e-02, -2.2746e-02,\n",
      "        -3.0211e-02,  2.3246e-02,  1.9091e-02,  1.3267e-02, -9.2941e-03,\n",
      "         1.9959e-02, -2.6782e-02,  7.5035e-03, -1.5596e-02, -1.6428e-02,\n",
      "        -5.8466e-03,  3.0551e-02,  3.1281e-02,  3.0794e-02, -2.6169e-02,\n",
      "        -3.0002e-02, -1.5271e-02,  1.3550e-02, -3.1855e-02,  3.4237e-02,\n",
      "        -4.8554e-03, -3.0853e-02,  1.2703e-06, -5.5846e-03, -1.6670e-02,\n",
      "         3.4572e-02,  1.5997e-02,  2.5007e-02], requires_grad=True)\n"
     ]
    }
   ],
   "source": [
    "print(model.fc1.weight)\n",
    "print(model.fc1.bias)"
   ]
  },
  {
   "cell_type": "markdown",
   "metadata": {},
   "source": [
    "For custom initialization, we want to modify these tensors in place. These are actually autograd *Variables*, so we need to get back the actual tensors with `model.fc1.weight.data`. Once we have the tensors, we can fill them with zeros (for biases) or random normal values."
   ]
  },
  {
   "cell_type": "code",
   "execution_count": 13,
   "metadata": {},
   "outputs": [
    {
     "data": {
      "text/plain": [
       "tensor([0., 0., 0., 0., 0., 0., 0., 0., 0., 0., 0., 0., 0., 0., 0., 0., 0., 0., 0., 0., 0., 0., 0., 0.,\n",
       "        0., 0., 0., 0., 0., 0., 0., 0., 0., 0., 0., 0., 0., 0., 0., 0., 0., 0., 0., 0., 0., 0., 0., 0.,\n",
       "        0., 0., 0., 0., 0., 0., 0., 0., 0., 0., 0., 0., 0., 0., 0., 0., 0., 0., 0., 0., 0., 0., 0., 0.,\n",
       "        0., 0., 0., 0., 0., 0., 0., 0., 0., 0., 0., 0., 0., 0., 0., 0., 0., 0., 0., 0., 0., 0., 0., 0.,\n",
       "        0., 0., 0., 0., 0., 0., 0., 0., 0., 0., 0., 0., 0., 0., 0., 0., 0., 0., 0., 0., 0., 0., 0., 0.,\n",
       "        0., 0., 0., 0., 0., 0., 0., 0.])"
      ]
     },
     "execution_count": 13,
     "metadata": {},
     "output_type": "execute_result"
    }
   ],
   "source": [
    "# Set biases to all zeros\n",
    "model.fc1.bias.data.fill_(0)"
   ]
  },
  {
   "cell_type": "code",
   "execution_count": 14,
   "metadata": {},
   "outputs": [
    {
     "data": {
      "text/plain": [
       "tensor([[ 0.0029,  0.0195,  0.0016,  ..., -0.0133,  0.0050,  0.0207],\n",
       "        [-0.0008, -0.0044,  0.0264,  ..., -0.0083,  0.0095,  0.0038],\n",
       "        [ 0.0149,  0.0087, -0.0108,  ..., -0.0269, -0.0166, -0.0081],\n",
       "        ...,\n",
       "        [-0.0047, -0.0149,  0.0056,  ..., -0.0091, -0.0124,  0.0116],\n",
       "        [ 0.0074, -0.0063,  0.0010,  ..., -0.0118,  0.0170, -0.0046],\n",
       "        [ 0.0060, -0.0071,  0.0338,  ..., -0.0009,  0.0014, -0.0194]])"
      ]
     },
     "execution_count": 14,
     "metadata": {},
     "output_type": "execute_result"
    }
   ],
   "source": [
    "# sample from random normal with standard dev = 0.01\n",
    "model.fc1.weight.data.normal_(std=0.01)"
   ]
  },
  {
   "cell_type": "markdown",
   "metadata": {},
   "source": [
    "### Forward pass\n",
    "\n",
    "Now that we have a network, let's see what happens when we pass in an image."
   ]
  },
  {
   "cell_type": "code",
   "execution_count": 15,
   "metadata": {},
   "outputs": [
    {
     "data": {
      "image/png": "[encoded data removed]",
      "text/plain": [
       "<Figure size 432x648 with 2 Axes>"
      ]
     },
     "metadata": {
      "image/png": {
       "height": 226,
       "width": 423
      },
      "needs_background": "light"
     },
     "output_type": "display_data"
    }
   ],
   "source": [
    "# Grab some data \n",
    "dataiter = iter(trainloader)\n",
    "images, labels = dataiter.next()\n",
    "\n",
    "# Resize images into a 1D vector, new shape is (batch size, color channels, image pixels) \n",
    "images.resize_(64, 1, 784)\n",
    "# or images.resize_(images.shape[0], 1, 784) to automatically get batch size\n",
    "\n",
    "# Forward pass through the network\n",
    "img_idx = 0\n",
    "ps = model.forward(images[img_idx,:])\n",
    "\n",
    "img = images[img_idx]\n",
    "helper.view_classify(img.view(1, 28, 28), ps)"
   ]
  },
  {
   "cell_type": "markdown",
   "metadata": {},
   "source": [
    "As you can see above, our network has basically no idea what this digit is. It's because we haven't trained it yet, all the weights are random!\n",
    "\n",
    "### Using `nn.Sequential`\n",
    "\n",
    "PyTorch provides a convenient way to build networks like this where a tensor is passed sequentially through operations, `nn.Sequential` ([documentation](https://pytorch.org/docs/master/nn.html#torch.nn.Sequential)). Using this to build the equivalent network:"
   ]
  },
  {
   "cell_type": "code",
   "execution_count": 16,
   "metadata": {},
   "outputs": [
    {
     "name": "stdout",
     "output_type": "stream",
     "text": [
      "Sequential(\n",
      "  (0): Linear(in_features=784, out_features=128, bias=True)\n",
      "  (1): ReLU()\n",
      "  (2): Linear(in_features=128, out_features=64, bias=True)\n",
      "  (3): ReLU()\n",
      "  (4): Linear(in_features=64, out_features=10, bias=True)\n",
      "  (5): Softmax(dim=1)\n",
      ")\n"
     ]
    },
    {
     "data": {
      "image/png": "[encoded data removed]",
      "text/plain": [
       "<Figure size 432x648 with 2 Axes>"
      ]
     },
     "metadata": {
      "image/png": {
       "height": 226,
       "width": 423
      },
      "needs_background": "light"
     },
     "output_type": "display_data"
    }
   ],
   "source": [
    "# Hyperparameters for our network\n",
    "input_size = 784\n",
    "hidden_sizes = [128, 64]\n",
    "output_size = 10\n",
    "\n",
    "# Build a feed-forward network\n",
    "model = nn.Sequential(nn.Linear(input_size, hidden_sizes[0]),\n",
    "                      nn.ReLU(),\n",
    "                      nn.Linear(hidden_sizes[0], hidden_sizes[1]),\n",
    "                      nn.ReLU(),\n",
    "                      nn.Linear(hidden_sizes[1], output_size),\n",
    "                      nn.Softmax(dim=1))\n",
    "print(model)\n",
    "\n",
    "# Forward pass through the network and display output\n",
    "images, labels = next(iter(trainloader))\n",
    "images.resize_(images.shape[0], 1, 784)\n",
    "ps = model.forward(images[0,:])\n",
    "helper.view_classify(images[0].view(1, 28, 28), ps)"
   ]
  },
  {
   "cell_type": "markdown",
   "metadata": {},
   "source": [
    "The operations are available by passing in the appropriate index. For example, if you want to get first Linear operation and look at the weights, you'd use `model[0]`."
   ]
  },
  {
   "cell_type": "code",
   "execution_count": 17,
   "metadata": {},
   "outputs": [
    {
     "name": "stdout",
     "output_type": "stream",
     "text": [
      "Linear(in_features=784, out_features=128, bias=True)\n"
     ]
    },
    {
     "data": {
      "text/plain": [
       "Parameter containing:\n",
       "tensor([[-0.0096, -0.0161, -0.0063,  ...,  0.0230, -0.0079,  0.0284],\n",
       "        [-0.0261,  0.0189,  0.0304,  ..., -0.0036,  0.0347, -0.0116],\n",
       "        [ 0.0027, -0.0164, -0.0296,  ...,  0.0270,  0.0270, -0.0231],\n",
       "        ...,\n",
       "        [ 0.0145,  0.0035, -0.0264,  ...,  0.0332, -0.0341,  0.0113],\n",
       "        [ 0.0157, -0.0043, -0.0293,  ..., -0.0294,  0.0292,  0.0136],\n",
       "        [ 0.0241,  0.0299, -0.0130,  ...,  0.0212,  0.0232,  0.0346]],\n",
       "       requires_grad=True)"
      ]
     },
     "execution_count": 17,
     "metadata": {},
     "output_type": "execute_result"
    }
   ],
   "source": [
    "print(model[0])\n",
    "model[0].weight"
   ]
  },
  {
   "cell_type": "markdown",
   "metadata": {},
   "source": [
    "You can also pass in an `OrderedDict` to name the individual layers and operations, instead of using incremental integers. Note that dictionary keys must be unique, so _each operation must have a different name_."
   ]
  },
  {
   "cell_type": "code",
   "execution_count": 18,
   "metadata": {},
   "outputs": [
    {
     "data": {
      "text/plain": [
       "Sequential(\n",
       "  (fc1): Linear(in_features=784, out_features=128, bias=True)\n",
       "  (relu1): ReLU()\n",
       "  (fc2): Linear(in_features=128, out_features=64, bias=True)\n",
       "  (relu2): ReLU()\n",
       "  (output): Linear(in_features=64, out_features=10, bias=True)\n",
       "  (softmax): Softmax(dim=1)\n",
       ")"
      ]
     },
     "execution_count": 18,
     "metadata": {},
     "output_type": "execute_result"
    }
   ],
   "source": [
    "from collections import OrderedDict\n",
    "model = nn.Sequential(OrderedDict([\n",
    "                      ('fc1', nn.Linear(input_size, hidden_sizes[0])),\n",
    "                      ('relu1', nn.ReLU()),\n",
    "                      ('fc2', nn.Linear(hidden_sizes[0], hidden_sizes[1])),\n",
    "                      ('relu2', nn.ReLU()),\n",
    "                      ('output', nn.Linear(hidden_sizes[1], output_size)),\n",
    "                      ('softmax', nn.Softmax(dim=1))]))\n",
    "model"
   ]
  },
  {
   "cell_type": "markdown",
   "metadata": {},
   "source": [
    "Now you can access layers either by integer or the name"
   ]
  },
  {
   "cell_type": "code",
   "execution_count": 19,
   "metadata": {},
   "outputs": [
    {
     "name": "stdout",
     "output_type": "stream",
     "text": [
      "Linear(in_features=784, out_features=128, bias=True)\n",
      "Linear(in_features=784, out_features=128, bias=True)\n"
     ]
    }
   ],
   "source": [
    "print(model[0])\n",
    "print(model.fc1)"
   ]
  },
  {
   "cell_type": "markdown",
   "metadata": {},
   "source": [
    "In the next notebook, we'll see how we can train a neural network to accurately predict the numbers appearing in the MNIST images."
   ]
  }
 ],
 "metadata": {
  "kernelspec": {
   "display_name": "Python [default]",
   "language": "python",
   "name": "python3"
  },
  "language_info": {
   "codemirror_mode": {
    "name": "ipython",
    "version": 3
   },
   "file_extension": ".py",
   "mimetype": "text/x-python",
   "name": "python",
   "nbconvert_exporter": "python",
   "pygments_lexer": "ipython3",
   "version": "3.7.10"
  }
 },
 "nbformat": 4,
 "nbformat_minor": 2
}
